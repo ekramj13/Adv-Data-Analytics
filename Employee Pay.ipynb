{
 "cells": [
  {
   "cell_type": "markdown",
   "metadata": {},
   "source": [
    "Week 1\n",
    "\n",
    "# Employee Pay  "
   ]
  },
  {
   "cell_type": "markdown",
   "metadata": {},
   "source": [
    "Using a text editor, write a program that calculates the salary for the week of the employees listed below. If an employee worked more than 40 hours that week, then calculate the remaining hours as time and a half (1.5x the normal rate).The program should print their name and salary earned."
   ]
  },
  {
   "cell_type": "code",
   "execution_count": 1,
   "metadata": {},
   "outputs": [],
   "source": [
    "#create dictionary for data\n",
    "Employees = [{'ID': '001', 'Name':'Mary', 'Pay_Rate': 15, 'Hours':40}, \n",
    "             {'ID': '002', 'Name':'John', 'Pay_Rate': 22, 'Hours':25}, \n",
    "             {'ID': '003', 'Name':'Bob', 'Pay_Rate': 35, 'Hours':4}, \n",
    "             {'ID': '004', 'Name':'Mel', 'Pay_Rate': 43, 'Hours':62}, \n",
    "             {'ID': '005', 'Name':'Jen', 'Pay_Rate': 17, 'Hours':33},\n",
    "             {'ID': '006', 'Name':'Sue', 'Pay_Rate': 29, 'Hours':45},\n",
    "             {'ID': '007', 'Name':'Ken', 'Pay_Rate': 40, 'Hours':36},\n",
    "             {'ID': '008', 'Name':'Dave', 'Pay_Rate': 20, 'Hours':17}, \n",
    "             {'ID': '009', 'Name':'Beth', 'Pay_Rate': 37, 'Hours':37},\n",
    "             {'ID': '010', 'Name':'Ray', 'Pay_Rate': 16.50, 'Hours':80}\n",
    "            ]"
   ]
  },
  {
   "cell_type": "code",
   "execution_count": 2,
   "metadata": {},
   "outputs": [
    {
     "name": "stdout",
     "output_type": "stream",
     "text": [
      "['Mary', 'John', 'Bob', 'Mel', 'Jen', 'Sue', 'Ken', 'Dave', 'Beth', 'Ray']\n"
     ]
    }
   ],
   "source": [
    "#see list of names defined in the dictionary\n",
    "Names = [li['Name'] for li in Employees]\n",
    "print(Names)"
   ]
  },
  {
   "cell_type": "code",
   "execution_count": 3,
   "metadata": {},
   "outputs": [
    {
     "name": "stdout",
     "output_type": "stream",
     "text": [
      "[15, 22, 35, 43, 17, 29, 40, 20, 37, 16.5]\n"
     ]
    }
   ],
   "source": [
    "Pay_Rates = [li['Pay_Rate']for li in Employees]\n",
    "print(Pay_Rates)"
   ]
  },
  {
   "cell_type": "code",
   "execution_count": 4,
   "metadata": {},
   "outputs": [
    {
     "data": {
      "text/plain": [
       "10"
      ]
     },
     "execution_count": 4,
     "metadata": {},
     "output_type": "execute_result"
    }
   ],
   "source": [
    "#see how many pay rates there are \n",
    "len(Pay_Rates)"
   ]
  },
  {
   "cell_type": "code",
   "execution_count": 5,
   "metadata": {},
   "outputs": [
    {
     "name": "stdout",
     "output_type": "stream",
     "text": [
      "Mary: $ 600\n",
      "John: $ 550\n",
      "Bob: $ 140\n",
      "Mel: $ 3139.0\n",
      "Jen: $ 561\n",
      "Sue: $ 1377.5\n",
      "Ken: $ 1440\n",
      "Dave: $ 340\n",
      "Beth: $ 1369\n",
      "Ray: $ 1650.0\n"
     ]
    }
   ],
   "source": [
    "#calculate salary\n",
    "for Employee in Employees:\n",
    "\n",
    "    if Employee['Hours'] <=40:\n",
    "        salary= Employee['Pay_Rate']*(Employee ['Hours'])\n",
    "        \n",
    "    else:\n",
    "        salary=(Employee['Pay_Rate']*1.5*(Employee['Hours']-40))+(Employee['Pay_Rate']*40)\n",
    "        \n",
    "        \n",
    "    print(Employee['Name']+ \": $\",(salary))\n",
    "            \n",
    "            "
   ]
  },
  {
   "cell_type": "markdown",
   "metadata": {},
   "source": [
    "## Calculating Salary Using User Input"
   ]
  },
  {
   "cell_type": "code",
   "execution_count": 6,
   "metadata": {},
   "outputs": [
    {
     "name": "stdout",
     "output_type": "stream",
     "text": [
      "How much does the employee get paid per hour?16.5\n",
      "How many hours did the employee work?80\n",
      "The total amount to be paid is: $ 1650.0\n"
     ]
    }
   ],
   "source": [
    "\n",
    "Payrate = input(\"How much does the employee get paid per hour?\")\n",
    "Hours = input(\"How many hours did the employee work?\")\n",
    "\n",
    "Payrate = float(Payrate)\n",
    "Hours = float (Hours)\n",
    "def salary(Payrate,Hours):\n",
    "    if Hours <=40:\n",
    "        salary=Payrate*Hours\n",
    "        \n",
    "    elif Hours>40:\n",
    "            salary=(Payrate*(1.5*(Hours-40))+(Payrate*40))\n",
    "            \n",
    "    return salary\n",
    "            \n",
    "print(\"The total amount to be paid is: $\",salary (Payrate, Hours))"
   ]
  }
 ],
 "metadata": {
  "kernelspec": {
   "display_name": "Python 3",
   "language": "python",
   "name": "python3"
  },
  "language_info": {
   "codemirror_mode": {
    "name": "ipython",
    "version": 3
   },
   "file_extension": ".py",
   "mimetype": "text/x-python",
   "name": "python",
   "nbconvert_exporter": "python",
   "pygments_lexer": "ipython3",
   "version": "3.7.0"
  }
 },
 "nbformat": 4,
 "nbformat_minor": 2
}
