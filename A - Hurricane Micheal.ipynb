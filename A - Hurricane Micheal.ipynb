{
 "cells": [
  {
   "cell_type": "markdown",
   "metadata": {},
   "source": [
    "## Hurrican Michael - Geocoding"
   ]
  },
  {
   "cell_type": "code",
   "execution_count": 1,
   "metadata": {},
   "outputs": [],
   "source": [
    "import pandas as pd\n",
    "import geopandas as gpd #used for transforming geolocation data\n",
    "import matplotlib.pyplot as plt\n",
    "\n",
    "from datetime import datetime  #to convert data to datetime that does not fall within the pandas.to_datetime function timeframe\n",
    "from shapely.geometry import Point  #transform latitude/longitude to geo-coordinate data\n",
    "from geopandas.tools import geocode #get the latitude/longitude for a given address\n",
    "from geopandas.tools import reverse_geocode  #get the address for a location using latitude/longitude\n",
    "\n",
    "%matplotlib inline"
   ]
  },
  {
   "cell_type": "code",
   "execution_count": 4,
   "metadata": {},
   "outputs": [
    {
     "data": {
      "text/html": [
       "<div>\n",
       "<style scoped>\n",
       "    .dataframe tbody tr th:only-of-type {\n",
       "        vertical-align: middle;\n",
       "    }\n",
       "\n",
       "    .dataframe tbody tr th {\n",
       "        vertical-align: top;\n",
       "    }\n",
       "\n",
       "    .dataframe thead th {\n",
       "        text-align: right;\n",
       "    }\n",
       "</style>\n",
       "<table border=\"1\" class=\"dataframe\">\n",
       "  <thead>\n",
       "    <tr style=\"text-align: right;\">\n",
       "      <th></th>\n",
       "      <th>AdvisoryNumber</th>\n",
       "      <th>Date</th>\n",
       "      <th>Lat</th>\n",
       "      <th>Long</th>\n",
       "      <th>Wind</th>\n",
       "      <th>Pres</th>\n",
       "      <th>Movement</th>\n",
       "      <th>Type</th>\n",
       "      <th>Name</th>\n",
       "      <th>Received</th>\n",
       "      <th>Forecaster</th>\n",
       "    </tr>\n",
       "  </thead>\n",
       "  <tbody>\n",
       "    <tr>\n",
       "      <th>0</th>\n",
       "      <td>1</td>\n",
       "      <td>10/06/2018 17:00</td>\n",
       "      <td>18.0</td>\n",
       "      <td>86.6</td>\n",
       "      <td>30</td>\n",
       "      <td>1006</td>\n",
       "      <td>NW at 6 MPH (325 deg)</td>\n",
       "      <td>Potential Tropical Cyclone</td>\n",
       "      <td>Fourteen</td>\n",
       "      <td>10/06/2018 16:50</td>\n",
       "      <td>Beven</td>\n",
       "    </tr>\n",
       "    <tr>\n",
       "      <th>1</th>\n",
       "      <td>1A</td>\n",
       "      <td>10/06/2018 20:00</td>\n",
       "      <td>18.3</td>\n",
       "      <td>86.6</td>\n",
       "      <td>30</td>\n",
       "      <td>1004</td>\n",
       "      <td>N at 6 MPH (360 deg)</td>\n",
       "      <td>Potential Tropical Cyclone</td>\n",
       "      <td>Fourteen</td>\n",
       "      <td>10/06/2018 19:32</td>\n",
       "      <td>Avila</td>\n",
       "    </tr>\n",
       "    <tr>\n",
       "      <th>2</th>\n",
       "      <td>2</td>\n",
       "      <td>10/06/2018 23:00</td>\n",
       "      <td>18.8</td>\n",
       "      <td>86.6</td>\n",
       "      <td>30</td>\n",
       "      <td>1004</td>\n",
       "      <td>N at 7 MPH (360 deg)</td>\n",
       "      <td>Potential Tropical Cyclone</td>\n",
       "      <td>Fourteen</td>\n",
       "      <td>10/06/2018 22:38</td>\n",
       "      <td>Avila</td>\n",
       "    </tr>\n",
       "    <tr>\n",
       "      <th>3</th>\n",
       "      <td>2A</td>\n",
       "      <td>10/07/2018 02:00</td>\n",
       "      <td>18.4</td>\n",
       "      <td>87.1</td>\n",
       "      <td>35</td>\n",
       "      <td>1004</td>\n",
       "      <td>NW at 5 MPH (320 deg)</td>\n",
       "      <td>Potential Tropical Cyclone</td>\n",
       "      <td>Fourteen</td>\n",
       "      <td>10/07/2018 01:38</td>\n",
       "      <td>Berg</td>\n",
       "    </tr>\n",
       "    <tr>\n",
       "      <th>4</th>\n",
       "      <td>3</td>\n",
       "      <td>10/07/2018 05:00</td>\n",
       "      <td>18.6</td>\n",
       "      <td>86.9</td>\n",
       "      <td>35</td>\n",
       "      <td>1004</td>\n",
       "      <td>NNW at 3 MPH (340 deg)</td>\n",
       "      <td>Tropical Depression</td>\n",
       "      <td>FOURTEEN</td>\n",
       "      <td>10/07/2018 04:53</td>\n",
       "      <td>Berg</td>\n",
       "    </tr>\n",
       "  </tbody>\n",
       "</table>\n",
       "</div>"
      ],
      "text/plain": [
       "  AdvisoryNumber              Date   Lat  Long  Wind  Pres  \\\n",
       "0              1  10/06/2018 17:00  18.0  86.6    30  1006   \n",
       "1             1A  10/06/2018 20:00  18.3  86.6    30  1004   \n",
       "2              2  10/06/2018 23:00  18.8  86.6    30  1004   \n",
       "3             2A  10/07/2018 02:00  18.4  87.1    35  1004   \n",
       "4              3  10/07/2018 05:00  18.6  86.9    35  1004   \n",
       "\n",
       "                 Movement                        Type      Name  \\\n",
       "0   NW at 6 MPH (325 deg)  Potential Tropical Cyclone  Fourteen   \n",
       "1    N at 6 MPH (360 deg)  Potential Tropical Cyclone  Fourteen   \n",
       "2    N at 7 MPH (360 deg)  Potential Tropical Cyclone  Fourteen   \n",
       "3   NW at 5 MPH (320 deg)  Potential Tropical Cyclone  Fourteen   \n",
       "4  NNW at 3 MPH (340 deg)         Tropical Depression  FOURTEEN   \n",
       "\n",
       "           Received Forecaster  \n",
       "0  10/06/2018 16:50      Beven  \n",
       "1  10/06/2018 19:32      Avila  \n",
       "2  10/06/2018 22:38      Avila  \n",
       "3  10/07/2018 01:38       Berg  \n",
       "4  10/07/2018 04:53       Berg  "
      ]
     },
     "execution_count": 4,
     "metadata": {},
     "output_type": "execute_result"
    }
   ],
   "source": [
    "location = ('datasets/hurricaneMichael.csv')\n",
    "\n",
    "hurricane_df = pd.read_csv(location)\n",
    "hurricane_df.head()"
   ]
  },
  {
   "cell_type": "code",
   "execution_count": 17,
   "metadata": {},
   "outputs": [
    {
     "data": {
      "text/html": [
       "<div>\n",
       "<style scoped>\n",
       "    .dataframe tbody tr th:only-of-type {\n",
       "        vertical-align: middle;\n",
       "    }\n",
       "\n",
       "    .dataframe tbody tr th {\n",
       "        vertical-align: top;\n",
       "    }\n",
       "\n",
       "    .dataframe thead th {\n",
       "        text-align: right;\n",
       "    }\n",
       "</style>\n",
       "<table border=\"1\" class=\"dataframe\">\n",
       "  <thead>\n",
       "    <tr style=\"text-align: right;\">\n",
       "      <th></th>\n",
       "      <th>AdvisoryNumber</th>\n",
       "      <th>Date</th>\n",
       "      <th>Lat</th>\n",
       "      <th>Long</th>\n",
       "      <th>Wind</th>\n",
       "      <th>Pres</th>\n",
       "      <th>Movement</th>\n",
       "      <th>Type</th>\n",
       "      <th>Name</th>\n",
       "      <th>Received</th>\n",
       "      <th>Forecaster</th>\n",
       "      <th>coordinates</th>\n",
       "    </tr>\n",
       "  </thead>\n",
       "  <tbody>\n",
       "    <tr>\n",
       "      <th>0</th>\n",
       "      <td>1</td>\n",
       "      <td>10/06/2018 17:00</td>\n",
       "      <td>18.0</td>\n",
       "      <td>-86.6</td>\n",
       "      <td>30</td>\n",
       "      <td>1006</td>\n",
       "      <td>NW at 6 MPH (325 deg)</td>\n",
       "      <td>Potential Tropical Cyclone</td>\n",
       "      <td>Fourteen</td>\n",
       "      <td>10/06/2018 16:50</td>\n",
       "      <td>Beven</td>\n",
       "      <td>[18.0, 86.6]</td>\n",
       "    </tr>\n",
       "    <tr>\n",
       "      <th>1</th>\n",
       "      <td>1A</td>\n",
       "      <td>10/06/2018 20:00</td>\n",
       "      <td>18.3</td>\n",
       "      <td>-86.6</td>\n",
       "      <td>30</td>\n",
       "      <td>1004</td>\n",
       "      <td>N at 6 MPH (360 deg)</td>\n",
       "      <td>Potential Tropical Cyclone</td>\n",
       "      <td>Fourteen</td>\n",
       "      <td>10/06/2018 19:32</td>\n",
       "      <td>Avila</td>\n",
       "      <td>[18.3, 86.6]</td>\n",
       "    </tr>\n",
       "    <tr>\n",
       "      <th>2</th>\n",
       "      <td>2</td>\n",
       "      <td>10/06/2018 23:00</td>\n",
       "      <td>18.8</td>\n",
       "      <td>-86.6</td>\n",
       "      <td>30</td>\n",
       "      <td>1004</td>\n",
       "      <td>N at 7 MPH (360 deg)</td>\n",
       "      <td>Potential Tropical Cyclone</td>\n",
       "      <td>Fourteen</td>\n",
       "      <td>10/06/2018 22:38</td>\n",
       "      <td>Avila</td>\n",
       "      <td>[18.8, 86.6]</td>\n",
       "    </tr>\n",
       "  </tbody>\n",
       "</table>\n",
       "</div>"
      ],
      "text/plain": [
       "  AdvisoryNumber              Date   Lat  Long  Wind  Pres  \\\n",
       "0              1  10/06/2018 17:00  18.0 -86.6    30  1006   \n",
       "1             1A  10/06/2018 20:00  18.3 -86.6    30  1004   \n",
       "2              2  10/06/2018 23:00  18.8 -86.6    30  1004   \n",
       "\n",
       "                Movement                        Type      Name  \\\n",
       "0  NW at 6 MPH (325 deg)  Potential Tropical Cyclone  Fourteen   \n",
       "1   N at 6 MPH (360 deg)  Potential Tropical Cyclone  Fourteen   \n",
       "2   N at 7 MPH (360 deg)  Potential Tropical Cyclone  Fourteen   \n",
       "\n",
       "           Received Forecaster   coordinates  \n",
       "0  10/06/2018 16:50      Beven  [18.0, 86.6]  \n",
       "1  10/06/2018 19:32      Avila  [18.3, 86.6]  \n",
       "2  10/06/2018 22:38      Avila  [18.8, 86.6]  "
      ]
     },
     "execution_count": 17,
     "metadata": {},
     "output_type": "execute_result"
    }
   ],
   "source": [
    "hurricane_df['Long'] = 0 - hurricane_df['Long']\n",
    "hurricane_df.head(3)"
   ]
  },
  {
   "cell_type": "code",
   "execution_count": 11,
   "metadata": {},
   "outputs": [
    {
     "data": {
      "text/plain": [
       "AdvisoryNumber     object\n",
       "Date               object\n",
       "Lat               float64\n",
       "Long              float64\n",
       "Wind                int64\n",
       "Pres                int64\n",
       "Movement           object\n",
       "Type               object\n",
       "Name               object\n",
       "Received           object\n",
       "Forecaster         object\n",
       "dtype: object"
      ]
     },
     "execution_count": 11,
     "metadata": {},
     "output_type": "execute_result"
    }
   ],
   "source": [
    "hurricane_df.dtypes #check data type of each column"
   ]
  },
  {
   "cell_type": "code",
   "execution_count": 12,
   "metadata": {},
   "outputs": [
    {
     "data": {
      "text/plain": [
       "AdvisoryNumber    45\n",
       "Date              45\n",
       "Lat               45\n",
       "Long              45\n",
       "Wind              45\n",
       "Pres              45\n",
       "Movement          45\n",
       "Type              45\n",
       "Name              45\n",
       "Received          45\n",
       "Forecaster        45\n",
       "dtype: int64"
      ]
     },
     "execution_count": 12,
     "metadata": {},
     "output_type": "execute_result"
    }
   ],
   "source": [
    "#see if any columns have null values\n",
    "hurricane_df.count()"
   ]
  },
  {
   "cell_type": "code",
   "execution_count": 39,
   "metadata": {},
   "outputs": [
    {
     "data": {
      "text/html": [
       "<div>\n",
       "<style scoped>\n",
       "    .dataframe tbody tr th:only-of-type {\n",
       "        vertical-align: middle;\n",
       "    }\n",
       "\n",
       "    .dataframe tbody tr th {\n",
       "        vertical-align: top;\n",
       "    }\n",
       "\n",
       "    .dataframe thead th {\n",
       "        text-align: right;\n",
       "    }\n",
       "</style>\n",
       "<table border=\"1\" class=\"dataframe\">\n",
       "  <thead>\n",
       "    <tr style=\"text-align: right;\">\n",
       "      <th></th>\n",
       "      <th>AdvisoryNumber</th>\n",
       "      <th>Date</th>\n",
       "      <th>Lat</th>\n",
       "      <th>Long</th>\n",
       "      <th>Wind</th>\n",
       "      <th>Pres</th>\n",
       "      <th>Movement</th>\n",
       "      <th>Type</th>\n",
       "      <th>Name</th>\n",
       "      <th>Received</th>\n",
       "      <th>Forecaster</th>\n",
       "      <th>coordinates</th>\n",
       "    </tr>\n",
       "  </thead>\n",
       "  <tbody>\n",
       "    <tr>\n",
       "      <th>0</th>\n",
       "      <td>1</td>\n",
       "      <td>10/06/2018 17:00</td>\n",
       "      <td>18.0</td>\n",
       "      <td>-86.6</td>\n",
       "      <td>30</td>\n",
       "      <td>1006</td>\n",
       "      <td>NW at 6 MPH (325 deg)</td>\n",
       "      <td>Potential Tropical Cyclone</td>\n",
       "      <td>Fourteen</td>\n",
       "      <td>10/06/2018 16:50</td>\n",
       "      <td>Beven</td>\n",
       "      <td>[-86.6, 18.0]</td>\n",
       "    </tr>\n",
       "    <tr>\n",
       "      <th>1</th>\n",
       "      <td>1A</td>\n",
       "      <td>10/06/2018 20:00</td>\n",
       "      <td>18.3</td>\n",
       "      <td>-86.6</td>\n",
       "      <td>30</td>\n",
       "      <td>1004</td>\n",
       "      <td>N at 6 MPH (360 deg)</td>\n",
       "      <td>Potential Tropical Cyclone</td>\n",
       "      <td>Fourteen</td>\n",
       "      <td>10/06/2018 19:32</td>\n",
       "      <td>Avila</td>\n",
       "      <td>[-86.6, 18.3]</td>\n",
       "    </tr>\n",
       "    <tr>\n",
       "      <th>2</th>\n",
       "      <td>2</td>\n",
       "      <td>10/06/2018 23:00</td>\n",
       "      <td>18.8</td>\n",
       "      <td>-86.6</td>\n",
       "      <td>30</td>\n",
       "      <td>1004</td>\n",
       "      <td>N at 7 MPH (360 deg)</td>\n",
       "      <td>Potential Tropical Cyclone</td>\n",
       "      <td>Fourteen</td>\n",
       "      <td>10/06/2018 22:38</td>\n",
       "      <td>Avila</td>\n",
       "      <td>[-86.6, 18.8]</td>\n",
       "    </tr>\n",
       "  </tbody>\n",
       "</table>\n",
       "</div>"
      ],
      "text/plain": [
       "  AdvisoryNumber              Date   Lat  Long  Wind  Pres  \\\n",
       "0              1  10/06/2018 17:00  18.0 -86.6    30  1006   \n",
       "1             1A  10/06/2018 20:00  18.3 -86.6    30  1004   \n",
       "2              2  10/06/2018 23:00  18.8 -86.6    30  1004   \n",
       "\n",
       "                Movement                        Type      Name  \\\n",
       "0  NW at 6 MPH (325 deg)  Potential Tropical Cyclone  Fourteen   \n",
       "1   N at 6 MPH (360 deg)  Potential Tropical Cyclone  Fourteen   \n",
       "2   N at 7 MPH (360 deg)  Potential Tropical Cyclone  Fourteen   \n",
       "\n",
       "           Received Forecaster    coordinates  \n",
       "0  10/06/2018 16:50      Beven  [-86.6, 18.0]  \n",
       "1  10/06/2018 19:32      Avila  [-86.6, 18.3]  \n",
       "2  10/06/2018 22:38      Avila  [-86.6, 18.8]  "
      ]
     },
     "execution_count": 39,
     "metadata": {},
     "output_type": "execute_result"
    }
   ],
   "source": [
    "#make a new column to hold the longitude & latitude as a list\n",
    "hurricane_df['coordinates'] = list(hurricane_df[['Long', 'Lat']].values)\n",
    "hurricane_df.head(3)"
   ]
  },
  {
   "cell_type": "code",
   "execution_count": 40,
   "metadata": {},
   "outputs": [
    {
     "data": {
      "text/plain": [
       "dtype('O')"
      ]
     },
     "execution_count": 40,
     "metadata": {},
     "output_type": "execute_result"
    }
   ],
   "source": [
    "#see data type for coordinates\n",
    "hurricane_df['coordinates'].dtype"
   ]
  },
  {
   "cell_type": "code",
   "execution_count": 41,
   "metadata": {},
   "outputs": [],
   "source": [
    "#convert the coordinates to a geolocation type\n",
    "hurricane_df['coordinates'] = hurricane_df['coordinates'].apply(Point)"
   ]
  },
  {
   "cell_type": "code",
   "execution_count": 42,
   "metadata": {},
   "outputs": [
    {
     "data": {
      "text/html": [
       "<div>\n",
       "<style scoped>\n",
       "    .dataframe tbody tr th:only-of-type {\n",
       "        vertical-align: middle;\n",
       "    }\n",
       "\n",
       "    .dataframe tbody tr th {\n",
       "        vertical-align: top;\n",
       "    }\n",
       "\n",
       "    .dataframe thead th {\n",
       "        text-align: right;\n",
       "    }\n",
       "</style>\n",
       "<table border=\"1\" class=\"dataframe\">\n",
       "  <thead>\n",
       "    <tr style=\"text-align: right;\">\n",
       "      <th></th>\n",
       "      <th>AdvisoryNumber</th>\n",
       "      <th>Date</th>\n",
       "      <th>Lat</th>\n",
       "      <th>Long</th>\n",
       "      <th>Wind</th>\n",
       "      <th>Pres</th>\n",
       "      <th>Movement</th>\n",
       "      <th>Type</th>\n",
       "      <th>Name</th>\n",
       "      <th>Received</th>\n",
       "      <th>Forecaster</th>\n",
       "      <th>coordinates</th>\n",
       "    </tr>\n",
       "  </thead>\n",
       "  <tbody>\n",
       "    <tr>\n",
       "      <th>0</th>\n",
       "      <td>1</td>\n",
       "      <td>10/06/2018 17:00</td>\n",
       "      <td>18.0</td>\n",
       "      <td>-86.6</td>\n",
       "      <td>30</td>\n",
       "      <td>1006</td>\n",
       "      <td>NW at 6 MPH (325 deg)</td>\n",
       "      <td>Potential Tropical Cyclone</td>\n",
       "      <td>Fourteen</td>\n",
       "      <td>10/06/2018 16:50</td>\n",
       "      <td>Beven</td>\n",
       "      <td>POINT (-86.59999999999999 18)</td>\n",
       "    </tr>\n",
       "    <tr>\n",
       "      <th>1</th>\n",
       "      <td>1A</td>\n",
       "      <td>10/06/2018 20:00</td>\n",
       "      <td>18.3</td>\n",
       "      <td>-86.6</td>\n",
       "      <td>30</td>\n",
       "      <td>1004</td>\n",
       "      <td>N at 6 MPH (360 deg)</td>\n",
       "      <td>Potential Tropical Cyclone</td>\n",
       "      <td>Fourteen</td>\n",
       "      <td>10/06/2018 19:32</td>\n",
       "      <td>Avila</td>\n",
       "      <td>POINT (-86.59999999999999 18.3)</td>\n",
       "    </tr>\n",
       "    <tr>\n",
       "      <th>2</th>\n",
       "      <td>2</td>\n",
       "      <td>10/06/2018 23:00</td>\n",
       "      <td>18.8</td>\n",
       "      <td>-86.6</td>\n",
       "      <td>30</td>\n",
       "      <td>1004</td>\n",
       "      <td>N at 7 MPH (360 deg)</td>\n",
       "      <td>Potential Tropical Cyclone</td>\n",
       "      <td>Fourteen</td>\n",
       "      <td>10/06/2018 22:38</td>\n",
       "      <td>Avila</td>\n",
       "      <td>POINT (-86.59999999999999 18.8)</td>\n",
       "    </tr>\n",
       "  </tbody>\n",
       "</table>\n",
       "</div>"
      ],
      "text/plain": [
       "  AdvisoryNumber              Date   Lat  Long  Wind  Pres  \\\n",
       "0              1  10/06/2018 17:00  18.0 -86.6    30  1006   \n",
       "1             1A  10/06/2018 20:00  18.3 -86.6    30  1004   \n",
       "2              2  10/06/2018 23:00  18.8 -86.6    30  1004   \n",
       "\n",
       "                Movement                        Type      Name  \\\n",
       "0  NW at 6 MPH (325 deg)  Potential Tropical Cyclone  Fourteen   \n",
       "1   N at 6 MPH (360 deg)  Potential Tropical Cyclone  Fourteen   \n",
       "2   N at 7 MPH (360 deg)  Potential Tropical Cyclone  Fourteen   \n",
       "\n",
       "           Received Forecaster                      coordinates  \n",
       "0  10/06/2018 16:50      Beven    POINT (-86.59999999999999 18)  \n",
       "1  10/06/2018 19:32      Avila  POINT (-86.59999999999999 18.3)  \n",
       "2  10/06/2018 22:38      Avila  POINT (-86.59999999999999 18.8)  "
      ]
     },
     "execution_count": 42,
     "metadata": {},
     "output_type": "execute_result"
    }
   ],
   "source": [
    "#coordinates column now has POINT next to each coordinate pair value\n",
    "hurricane_df.head(3)"
   ]
  },
  {
   "cell_type": "code",
   "execution_count": 43,
   "metadata": {},
   "outputs": [
    {
     "data": {
      "text/plain": [
       "pandas.core.series.Series"
      ]
     },
     "execution_count": 43,
     "metadata": {},
     "output_type": "execute_result"
    }
   ],
   "source": [
    "type(hurricane_df['coordinates'])"
   ]
  },
  {
   "cell_type": "code",
   "execution_count": 44,
   "metadata": {},
   "outputs": [],
   "source": [
    "#create a geolocation dataframe type using the coordinates column as the geolocation data\n",
    "geo_hurr = gpd.GeoDataFrame(hurricane_df, geometry='coordinates')"
   ]
  },
  {
   "cell_type": "code",
   "execution_count": 45,
   "metadata": {},
   "outputs": [
    {
     "data": {
      "text/html": [
       "<div>\n",
       "<style scoped>\n",
       "    .dataframe tbody tr th:only-of-type {\n",
       "        vertical-align: middle;\n",
       "    }\n",
       "\n",
       "    .dataframe tbody tr th {\n",
       "        vertical-align: top;\n",
       "    }\n",
       "\n",
       "    .dataframe thead th {\n",
       "        text-align: right;\n",
       "    }\n",
       "</style>\n",
       "<table border=\"1\" class=\"dataframe\">\n",
       "  <thead>\n",
       "    <tr style=\"text-align: right;\">\n",
       "      <th></th>\n",
       "      <th>AdvisoryNumber</th>\n",
       "      <th>Date</th>\n",
       "      <th>Lat</th>\n",
       "      <th>Long</th>\n",
       "      <th>Wind</th>\n",
       "      <th>Pres</th>\n",
       "      <th>Movement</th>\n",
       "      <th>Type</th>\n",
       "      <th>Name</th>\n",
       "      <th>Received</th>\n",
       "      <th>Forecaster</th>\n",
       "      <th>coordinates</th>\n",
       "    </tr>\n",
       "  </thead>\n",
       "  <tbody>\n",
       "    <tr>\n",
       "      <th>0</th>\n",
       "      <td>1</td>\n",
       "      <td>10/06/2018 17:00</td>\n",
       "      <td>18.0</td>\n",
       "      <td>-86.6</td>\n",
       "      <td>30</td>\n",
       "      <td>1006</td>\n",
       "      <td>NW at 6 MPH (325 deg)</td>\n",
       "      <td>Potential Tropical Cyclone</td>\n",
       "      <td>Fourteen</td>\n",
       "      <td>10/06/2018 16:50</td>\n",
       "      <td>Beven</td>\n",
       "      <td>POINT (-86.59999999999999 18)</td>\n",
       "    </tr>\n",
       "    <tr>\n",
       "      <th>1</th>\n",
       "      <td>1A</td>\n",
       "      <td>10/06/2018 20:00</td>\n",
       "      <td>18.3</td>\n",
       "      <td>-86.6</td>\n",
       "      <td>30</td>\n",
       "      <td>1004</td>\n",
       "      <td>N at 6 MPH (360 deg)</td>\n",
       "      <td>Potential Tropical Cyclone</td>\n",
       "      <td>Fourteen</td>\n",
       "      <td>10/06/2018 19:32</td>\n",
       "      <td>Avila</td>\n",
       "      <td>POINT (-86.59999999999999 18.3)</td>\n",
       "    </tr>\n",
       "    <tr>\n",
       "      <th>2</th>\n",
       "      <td>2</td>\n",
       "      <td>10/06/2018 23:00</td>\n",
       "      <td>18.8</td>\n",
       "      <td>-86.6</td>\n",
       "      <td>30</td>\n",
       "      <td>1004</td>\n",
       "      <td>N at 7 MPH (360 deg)</td>\n",
       "      <td>Potential Tropical Cyclone</td>\n",
       "      <td>Fourteen</td>\n",
       "      <td>10/06/2018 22:38</td>\n",
       "      <td>Avila</td>\n",
       "      <td>POINT (-86.59999999999999 18.8)</td>\n",
       "    </tr>\n",
       "  </tbody>\n",
       "</table>\n",
       "</div>"
      ],
      "text/plain": [
       "  AdvisoryNumber              Date   Lat  Long  Wind  Pres  \\\n",
       "0              1  10/06/2018 17:00  18.0 -86.6    30  1006   \n",
       "1             1A  10/06/2018 20:00  18.3 -86.6    30  1004   \n",
       "2              2  10/06/2018 23:00  18.8 -86.6    30  1004   \n",
       "\n",
       "                Movement                        Type      Name  \\\n",
       "0  NW at 6 MPH (325 deg)  Potential Tropical Cyclone  Fourteen   \n",
       "1   N at 6 MPH (360 deg)  Potential Tropical Cyclone  Fourteen   \n",
       "2   N at 7 MPH (360 deg)  Potential Tropical Cyclone  Fourteen   \n",
       "\n",
       "           Received Forecaster                      coordinates  \n",
       "0  10/06/2018 16:50      Beven    POINT (-86.59999999999999 18)  \n",
       "1  10/06/2018 19:32      Avila  POINT (-86.59999999999999 18.3)  \n",
       "2  10/06/2018 22:38      Avila  POINT (-86.59999999999999 18.8)  "
      ]
     },
     "execution_count": 45,
     "metadata": {},
     "output_type": "execute_result"
    }
   ],
   "source": [
    "geo_hurr.head(3)"
   ]
  },
  {
   "cell_type": "code",
   "execution_count": 46,
   "metadata": {},
   "outputs": [
    {
     "data": {
      "text/plain": [
       "geopandas.geoseries.GeoSeries"
      ]
     },
     "execution_count": 46,
     "metadata": {},
     "output_type": "execute_result"
    }
   ],
   "source": [
    "#verify coordinates column is geolocation data type\n",
    "type(geo_hurr['coordinates'])"
   ]
  },
  {
   "cell_type": "code",
   "execution_count": 47,
   "metadata": {},
   "outputs": [
    {
     "data": {
      "text/html": [
       "<div>\n",
       "<style scoped>\n",
       "    .dataframe tbody tr th:only-of-type {\n",
       "        vertical-align: middle;\n",
       "    }\n",
       "\n",
       "    .dataframe tbody tr th {\n",
       "        vertical-align: top;\n",
       "    }\n",
       "\n",
       "    .dataframe thead th {\n",
       "        text-align: right;\n",
       "    }\n",
       "</style>\n",
       "<table border=\"1\" class=\"dataframe\">\n",
       "  <thead>\n",
       "    <tr style=\"text-align: right;\">\n",
       "      <th></th>\n",
       "      <th>GEO_ID</th>\n",
       "      <th>STATE</th>\n",
       "      <th>NAME</th>\n",
       "      <th>LSAD</th>\n",
       "      <th>CENSUSAREA</th>\n",
       "      <th>geometry</th>\n",
       "    </tr>\n",
       "  </thead>\n",
       "  <tbody>\n",
       "    <tr>\n",
       "      <th>0</th>\n",
       "      <td>0400000US01</td>\n",
       "      <td>01</td>\n",
       "      <td>Alabama</td>\n",
       "      <td></td>\n",
       "      <td>50645.326</td>\n",
       "      <td>(POLYGON ((-88.124658 30.28364, -88.0868119999...</td>\n",
       "    </tr>\n",
       "    <tr>\n",
       "      <th>1</th>\n",
       "      <td>0400000US02</td>\n",
       "      <td>02</td>\n",
       "      <td>Alaska</td>\n",
       "      <td></td>\n",
       "      <td>570640.950</td>\n",
       "      <td>(POLYGON ((-166.10574 53.988606, -166.075283 5...</td>\n",
       "    </tr>\n",
       "    <tr>\n",
       "      <th>2</th>\n",
       "      <td>0400000US04</td>\n",
       "      <td>04</td>\n",
       "      <td>Arizona</td>\n",
       "      <td></td>\n",
       "      <td>113594.084</td>\n",
       "      <td>POLYGON ((-112.538593 37.000674, -112.534545 3...</td>\n",
       "    </tr>\n",
       "    <tr>\n",
       "      <th>3</th>\n",
       "      <td>0400000US05</td>\n",
       "      <td>05</td>\n",
       "      <td>Arkansas</td>\n",
       "      <td></td>\n",
       "      <td>52035.477</td>\n",
       "      <td>POLYGON ((-94.042964 33.019219, -94.043036 33....</td>\n",
       "    </tr>\n",
       "    <tr>\n",
       "      <th>4</th>\n",
       "      <td>0400000US06</td>\n",
       "      <td>06</td>\n",
       "      <td>California</td>\n",
       "      <td></td>\n",
       "      <td>155779.220</td>\n",
       "      <td>(POLYGON ((-122.421439 37.869969, -122.421341 ...</td>\n",
       "    </tr>\n",
       "  </tbody>\n",
       "</table>\n",
       "</div>"
      ],
      "text/plain": [
       "        GEO_ID STATE        NAME LSAD  CENSUSAREA  \\\n",
       "0  0400000US01    01     Alabama        50645.326   \n",
       "1  0400000US02    02      Alaska       570640.950   \n",
       "2  0400000US04    04     Arizona       113594.084   \n",
       "3  0400000US05    05    Arkansas        52035.477   \n",
       "4  0400000US06    06  California       155779.220   \n",
       "\n",
       "                                            geometry  \n",
       "0  (POLYGON ((-88.124658 30.28364, -88.0868119999...  \n",
       "1  (POLYGON ((-166.10574 53.988606, -166.075283 5...  \n",
       "2  POLYGON ((-112.538593 37.000674, -112.534545 3...  \n",
       "3  POLYGON ((-94.042964 33.019219, -94.043036 33....  \n",
       "4  (POLYGON ((-122.421439 37.869969, -122.421341 ...  "
      ]
     },
     "execution_count": 47,
     "metadata": {},
     "output_type": "execute_result"
    }
   ],
   "source": [
    "#import file that contains a world map shape polygons\n",
    "#will use to plot the coordinates of meteorite landings\n",
    "filepath = \"datasets/US_states(5m).json\"\n",
    "\n",
    "#data contains polygon shape coordinates for different map body types (continents, etc.)\n",
    "map_df = gpd.read_file(filepath)\n",
    "map_df.head()"
   ]
  },
  {
   "cell_type": "code",
   "execution_count": 48,
   "metadata": {},
   "outputs": [
    {
     "data": {
      "text/plain": [
       "<matplotlib.axes._subplots.AxesSubplot at 0x11d908b00>"
      ]
     },
     "execution_count": 48,
     "metadata": {},
     "output_type": "execute_result"
    },
    {
     "data": {
      "image/png": "[encoded data removed]",
      "text/plain": [
       "<matplotlib.figure.Figure at 0x11d899a58>"
      ]
     },
     "metadata": {
      "needs_background": "light"
     },
     "output_type": "display_data"
    }
   ],
   "source": [
    "map_df.plot()"
   ]
  },
  {
   "cell_type": "code",
   "execution_count": 49,
   "metadata": {},
   "outputs": [],
   "source": [
    "map48 = map_df.loc[map_df['NAME'].isin(['Alaska', 'Hawaii', 'Puerto Rico']) == False]"
   ]
  },
  {
   "cell_type": "code",
   "execution_count": 50,
   "metadata": {},
   "outputs": [
    {
     "data": {
      "text/plain": [
       "<matplotlib.axes._subplots.AxesSubplot at 0x11d4edf28>"
      ]
     },
     "execution_count": 50,
     "metadata": {},
     "output_type": "execute_result"
    },
    {
     "data": {
      "image/png": "[encoded data removed]",
      "text/plain": [
       "<matplotlib.figure.Figure at 0x11e1aee10>"
      ]
     },
     "metadata": {
      "needs_background": "light"
     },
     "output_type": "display_data"
    }
   ],
   "source": [
    "#create a geodataframe that only contains the contiguous United States (48 states)\n",
    "map48.plot()"
   ]
  },
  {
   "cell_type": "code",
   "execution_count": 51,
   "metadata": {},
   "outputs": [
    {
     "data": {
      "text/plain": [
       "<matplotlib.axes._subplots.AxesSubplot at 0x11da7a160>"
      ]
     },
     "execution_count": 51,
     "metadata": {},
     "output_type": "execute_result"
    },
    {
     "data": {
      "image/png": "[encoded data removed]",
      "text/plain": [
       "<matplotlib.figure.Figure at 0x11da673c8>"
      ]
     },
     "metadata": {
      "needs_background": "light"
     },
     "output_type": "display_data"
    }
   ],
   "source": [
    "#plot hurrican michael coordinates (no map)\n",
    "geo_hurr.plot()"
   ]
  },
  {
   "cell_type": "code",
   "execution_count": 52,
   "metadata": {},
   "outputs": [
    {
     "data": {
      "text/plain": [
       "Text(0.5,1,'Hurrican Michael Path')"
      ]
     },
     "execution_count": 52,
     "metadata": {},
     "output_type": "execute_result"
    },
    {
     "data": {
      "image/png": "[encoded data removed]",
      "text/plain": [
       "<matplotlib.figure.Figure at 0x11da83518>"
      ]
     },
     "metadata": {
      "needs_background": "light"
     },
     "output_type": "display_data"
    }
   ],
   "source": [
    "#plot coordinates on top of map graph\n",
    "\n",
    "#this is to set the size of the borders\n",
    "fig, ax = plt.subplots(1, figsize=(15,10))\n",
    "\n",
    "#this is the map\n",
    "basemap = map48.plot(ax=ax)\n",
    "\n",
    "#plot coordinates on top of map graph\n",
    "geo_hurr.plot(ax=basemap, color='darkred', marker=\".\", markersize=10)\n",
    "\n",
    "#take off axis numbers\n",
    "ax.axis('off')\n",
    "\n",
    "#put title on map\n",
    "ax.set_title(\"Hurrican Michael Path\", fontsize=25, fontweight=3)"
   ]
  },
  {
   "cell_type": "code",
   "execution_count": null,
   "metadata": {},
   "outputs": [],
   "source": []
  }
 ],
 "metadata": {
  "kernelspec": {
   "display_name": "Python 3",
   "language": "python",
   "name": "python3"
  },
  "language_info": {
   "codemirror_mode": {
    "name": "ipython",
    "version": 3
   },
   "file_extension": ".py",
   "mimetype": "text/x-python",
   "name": "python",
   "nbconvert_exporter": "python",
   "pygments_lexer": "ipython3",
   "version": "3.6.8"
  }
 },
 "nbformat": 4,
 "nbformat_minor": 2
}
