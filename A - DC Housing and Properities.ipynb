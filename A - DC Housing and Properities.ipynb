{
 "cells": [
  {
   "cell_type": "markdown",
   "metadata": {},
   "source": [
    "   ## Feature Scaling -  DC Housing and Properties"
   ]
  },
  {
   "cell_type": "code",
   "execution_count": 29,
   "metadata": {},
   "outputs": [],
   "source": [
    "# import libraries \n",
    "\n",
    "import pandas as pd\n",
    "\n",
    "from sklearn import preprocessing\n",
    "from sklearn.preprocessing import StandardScaler\n",
    "from sklearn.preprocessing import MinMaxScaler\n",
    "\n",
    "%matplotlib inline"
   ]
  },
  {
   "cell_type": "code",
   "execution_count": 30,
   "metadata": {},
   "outputs": [
    {
     "name": "stderr",
     "output_type": "stream",
     "text": [
      "/Users/ekramjiru/anaconda3/lib/python3.6/site-packages/IPython/core/interactiveshell.py:3020: DtypeWarning: Columns (18,19,20,21,22,23,24,33,34,35,37,43,45) have mixed types. Specify dtype option on import or set low_memory=False.\n",
      "  interactivity=interactivity, compiler=compiler, result=result)\n"
     ]
    },
    {
     "data": {
      "text/html": [
       "<div>\n",
       "<style scoped>\n",
       "    .dataframe tbody tr th:only-of-type {\n",
       "        vertical-align: middle;\n",
       "    }\n",
       "\n",
       "    .dataframe tbody tr th {\n",
       "        vertical-align: top;\n",
       "    }\n",
       "\n",
       "    .dataframe thead th {\n",
       "        text-align: right;\n",
       "    }\n",
       "</style>\n",
       "<table border=\"1\" class=\"dataframe\">\n",
       "  <thead>\n",
       "    <tr style=\"text-align: right;\">\n",
       "      <th></th>\n",
       "      <th>Unnamed: 0</th>\n",
       "      <th>BATHRM</th>\n",
       "      <th>HF_BATHRM</th>\n",
       "      <th>HEAT</th>\n",
       "      <th>AC</th>\n",
       "      <th>NUM_UNITS</th>\n",
       "      <th>ROOMS</th>\n",
       "      <th>BEDRM</th>\n",
       "      <th>AYB</th>\n",
       "      <th>YR_RMDL</th>\n",
       "      <th>...</th>\n",
       "      <th>LONGITUDE</th>\n",
       "      <th>ASSESSMENT_NBHD</th>\n",
       "      <th>ASSESSMENT_SUBNBHD</th>\n",
       "      <th>CENSUS_TRACT</th>\n",
       "      <th>CENSUS_BLOCK</th>\n",
       "      <th>WARD</th>\n",
       "      <th>SQUARE</th>\n",
       "      <th>X</th>\n",
       "      <th>Y</th>\n",
       "      <th>QUADRANT</th>\n",
       "    </tr>\n",
       "  </thead>\n",
       "  <tbody>\n",
       "    <tr>\n",
       "      <th>0</th>\n",
       "      <td>0</td>\n",
       "      <td>4</td>\n",
       "      <td>0</td>\n",
       "      <td>Warm Cool</td>\n",
       "      <td>Y</td>\n",
       "      <td>2.0</td>\n",
       "      <td>8</td>\n",
       "      <td>4</td>\n",
       "      <td>1910.0</td>\n",
       "      <td>1988.0</td>\n",
       "      <td>...</td>\n",
       "      <td>-77.040832</td>\n",
       "      <td>Old City 2</td>\n",
       "      <td>040 D Old City 2</td>\n",
       "      <td>4201.0</td>\n",
       "      <td>004201 2006</td>\n",
       "      <td>Ward 2</td>\n",
       "      <td>152</td>\n",
       "      <td>-77.040429</td>\n",
       "      <td>38.914881</td>\n",
       "      <td>NW</td>\n",
       "    </tr>\n",
       "    <tr>\n",
       "      <th>1</th>\n",
       "      <td>1</td>\n",
       "      <td>3</td>\n",
       "      <td>1</td>\n",
       "      <td>Warm Cool</td>\n",
       "      <td>Y</td>\n",
       "      <td>2.0</td>\n",
       "      <td>11</td>\n",
       "      <td>5</td>\n",
       "      <td>1898.0</td>\n",
       "      <td>2007.0</td>\n",
       "      <td>...</td>\n",
       "      <td>-77.040764</td>\n",
       "      <td>Old City 2</td>\n",
       "      <td>040 D Old City 2</td>\n",
       "      <td>4201.0</td>\n",
       "      <td>004201 2006</td>\n",
       "      <td>Ward 2</td>\n",
       "      <td>152</td>\n",
       "      <td>-77.040429</td>\n",
       "      <td>38.914881</td>\n",
       "      <td>NW</td>\n",
       "    </tr>\n",
       "    <tr>\n",
       "      <th>2</th>\n",
       "      <td>2</td>\n",
       "      <td>3</td>\n",
       "      <td>1</td>\n",
       "      <td>Hot Water Rad</td>\n",
       "      <td>Y</td>\n",
       "      <td>2.0</td>\n",
       "      <td>9</td>\n",
       "      <td>5</td>\n",
       "      <td>1910.0</td>\n",
       "      <td>2009.0</td>\n",
       "      <td>...</td>\n",
       "      <td>-77.040678</td>\n",
       "      <td>Old City 2</td>\n",
       "      <td>040 D Old City 2</td>\n",
       "      <td>4201.0</td>\n",
       "      <td>004201 2006</td>\n",
       "      <td>Ward 2</td>\n",
       "      <td>152</td>\n",
       "      <td>-77.040429</td>\n",
       "      <td>38.914881</td>\n",
       "      <td>NW</td>\n",
       "    </tr>\n",
       "    <tr>\n",
       "      <th>3</th>\n",
       "      <td>3</td>\n",
       "      <td>3</td>\n",
       "      <td>1</td>\n",
       "      <td>Hot Water Rad</td>\n",
       "      <td>Y</td>\n",
       "      <td>2.0</td>\n",
       "      <td>8</td>\n",
       "      <td>5</td>\n",
       "      <td>1900.0</td>\n",
       "      <td>2003.0</td>\n",
       "      <td>...</td>\n",
       "      <td>-77.040629</td>\n",
       "      <td>Old City 2</td>\n",
       "      <td>040 D Old City 2</td>\n",
       "      <td>4201.0</td>\n",
       "      <td>004201 2006</td>\n",
       "      <td>Ward 2</td>\n",
       "      <td>152</td>\n",
       "      <td>-77.040429</td>\n",
       "      <td>38.914881</td>\n",
       "      <td>NW</td>\n",
       "    </tr>\n",
       "    <tr>\n",
       "      <th>4</th>\n",
       "      <td>4</td>\n",
       "      <td>2</td>\n",
       "      <td>1</td>\n",
       "      <td>Warm Cool</td>\n",
       "      <td>Y</td>\n",
       "      <td>1.0</td>\n",
       "      <td>11</td>\n",
       "      <td>3</td>\n",
       "      <td>1913.0</td>\n",
       "      <td>2012.0</td>\n",
       "      <td>...</td>\n",
       "      <td>-77.039361</td>\n",
       "      <td>Old City 2</td>\n",
       "      <td>040 D Old City 2</td>\n",
       "      <td>4201.0</td>\n",
       "      <td>004201 2006</td>\n",
       "      <td>Ward 2</td>\n",
       "      <td>152</td>\n",
       "      <td>-77.040429</td>\n",
       "      <td>38.914881</td>\n",
       "      <td>NW</td>\n",
       "    </tr>\n",
       "  </tbody>\n",
       "</table>\n",
       "<p>5 rows × 49 columns</p>\n",
       "</div>"
      ],
      "text/plain": [
       "   Unnamed: 0  BATHRM  HF_BATHRM           HEAT AC  NUM_UNITS  ROOMS  BEDRM  \\\n",
       "0           0       4          0      Warm Cool  Y        2.0      8      4   \n",
       "1           1       3          1      Warm Cool  Y        2.0     11      5   \n",
       "2           2       3          1  Hot Water Rad  Y        2.0      9      5   \n",
       "3           3       3          1  Hot Water Rad  Y        2.0      8      5   \n",
       "4           4       2          1      Warm Cool  Y        1.0     11      3   \n",
       "\n",
       "      AYB  YR_RMDL  ...  LONGITUDE  ASSESSMENT_NBHD ASSESSMENT_SUBNBHD  \\\n",
       "0  1910.0   1988.0  ... -77.040832       Old City 2   040 D Old City 2   \n",
       "1  1898.0   2007.0  ... -77.040764       Old City 2   040 D Old City 2   \n",
       "2  1910.0   2009.0  ... -77.040678       Old City 2   040 D Old City 2   \n",
       "3  1900.0   2003.0  ... -77.040629       Old City 2   040 D Old City 2   \n",
       "4  1913.0   2012.0  ... -77.039361       Old City 2   040 D Old City 2   \n",
       "\n",
       "   CENSUS_TRACT CENSUS_BLOCK    WARD  SQUARE          X          Y QUADRANT  \n",
       "0        4201.0  004201 2006  Ward 2     152 -77.040429  38.914881       NW  \n",
       "1        4201.0  004201 2006  Ward 2     152 -77.040429  38.914881       NW  \n",
       "2        4201.0  004201 2006  Ward 2     152 -77.040429  38.914881       NW  \n",
       "3        4201.0  004201 2006  Ward 2     152 -77.040429  38.914881       NW  \n",
       "4        4201.0  004201 2006  Ward 2     152 -77.040429  38.914881       NW  \n",
       "\n",
       "[5 rows x 49 columns]"
      ]
     },
     "execution_count": 30,
     "metadata": {},
     "output_type": "execute_result"
    }
   ],
   "source": [
    "filepath = \"datasets/DC_Properties.csv\"\n",
    "\n",
    "DChousing_df = pd.read_csv(filepath)\n",
    "#preview data\n",
    "DChousing_df.head()"
   ]
  },
  {
   "cell_type": "code",
   "execution_count": 31,
   "metadata": {},
   "outputs": [
    {
     "data": {
      "text/plain": [
       "Unnamed: 0            158957\n",
       "BATHRM                158957\n",
       "HF_BATHRM             158957\n",
       "HEAT                  158957\n",
       "AC                    158957\n",
       "NUM_UNITS             106696\n",
       "ROOMS                 158957\n",
       "BEDRM                 158957\n",
       "AYB                   158686\n",
       "YR_RMDL                80928\n",
       "EYB                   158957\n",
       "STORIES               106652\n",
       "SALEDATE              132187\n",
       "PRICE                  98216\n",
       "QUALIFIED             158957\n",
       "SALE_NUM              158957\n",
       "GBA                   106696\n",
       "BLDG_NUM              158957\n",
       "STYLE                 106696\n",
       "STRUCT                106696\n",
       "GRADE                 106696\n",
       "CNDTN                 106696\n",
       "EXTWALL               106696\n",
       "ROOF                  106696\n",
       "INTWALL               106696\n",
       "KITCHENS              106695\n",
       "FIREPLACES            158957\n",
       "USECODE               158957\n",
       "LANDAREA              158957\n",
       "GIS_LAST_MOD_DTTM     158957\n",
       "SOURCE                158957\n",
       "CMPLX_NUM              52261\n",
       "LIVING_GBA             52261\n",
       "FULLADDRESS           106040\n",
       "CITY                  106051\n",
       "STATE                 106051\n",
       "ZIPCODE               158956\n",
       "NATIONALGRID          106051\n",
       "LATITUDE              158956\n",
       "LONGITUDE             158956\n",
       "ASSESSMENT_NBHD       158956\n",
       "ASSESSMENT_SUBNBHD    126406\n",
       "CENSUS_TRACT          158956\n",
       "CENSUS_BLOCK          106051\n",
       "WARD                  158956\n",
       "SQUARE                158957\n",
       "X                     158720\n",
       "Y                     158720\n",
       "QUADRANT              158720\n",
       "dtype: int64"
      ]
     },
     "execution_count": 31,
     "metadata": {},
     "output_type": "execute_result"
    }
   ],
   "source": [
    "#check if any missing values in the data\n",
    "DChousing_df.count()"
   ]
  },
  {
   "cell_type": "code",
   "execution_count": 32,
   "metadata": {},
   "outputs": [
    {
     "data": {
      "text/plain": [
       "Unnamed: 0                 0\n",
       "BATHRM                     0\n",
       "HF_BATHRM                  0\n",
       "HEAT                       0\n",
       "AC                         0\n",
       "NUM_UNITS              52261\n",
       "ROOMS                      0\n",
       "BEDRM                      0\n",
       "AYB                      271\n",
       "YR_RMDL                78029\n",
       "EYB                        0\n",
       "STORIES                52305\n",
       "SALEDATE               26770\n",
       "PRICE                  60741\n",
       "QUALIFIED                  0\n",
       "SALE_NUM                   0\n",
       "GBA                    52261\n",
       "BLDG_NUM                   0\n",
       "STYLE                  52261\n",
       "STRUCT                 52261\n",
       "GRADE                  52261\n",
       "CNDTN                  52261\n",
       "EXTWALL                52261\n",
       "ROOF                   52261\n",
       "INTWALL                52261\n",
       "KITCHENS               52262\n",
       "FIREPLACES                 0\n",
       "USECODE                    0\n",
       "LANDAREA                   0\n",
       "GIS_LAST_MOD_DTTM          0\n",
       "SOURCE                     0\n",
       "CMPLX_NUM             106696\n",
       "LIVING_GBA            106696\n",
       "FULLADDRESS            52917\n",
       "CITY                   52906\n",
       "STATE                  52906\n",
       "ZIPCODE                    1\n",
       "NATIONALGRID           52906\n",
       "LATITUDE                   1\n",
       "LONGITUDE                  1\n",
       "ASSESSMENT_NBHD            1\n",
       "ASSESSMENT_SUBNBHD     32551\n",
       "CENSUS_TRACT               1\n",
       "CENSUS_BLOCK           52906\n",
       "WARD                       1\n",
       "SQUARE                     0\n",
       "X                        237\n",
       "Y                        237\n",
       "QUADRANT                 237\n",
       "dtype: int64"
      ]
     },
     "execution_count": 32,
     "metadata": {},
     "output_type": "execute_result"
    }
   ],
   "source": [
    "#check for total number of missing values \n",
    "DChousing_df.isnull().sum()"
   ]
  },
  {
   "cell_type": "code",
   "execution_count": 33,
   "metadata": {},
   "outputs": [],
   "source": [
    "#drop all missing prices\n",
    "cleanDCHouse_df = DChousing_df[DChousing_df['PRICE'].notnull()]"
   ]
  },
  {
   "cell_type": "code",
   "execution_count": 34,
   "metadata": {},
   "outputs": [
    {
     "data": {
      "text/plain": [
       "Unnamed: 0                0\n",
       "BATHRM                    0\n",
       "HF_BATHRM                 0\n",
       "HEAT                      0\n",
       "AC                        0\n",
       "NUM_UNITS             40316\n",
       "ROOMS                     0\n",
       "BEDRM                     0\n",
       "AYB                     112\n",
       "YR_RMDL               40542\n",
       "EYB                       0\n",
       "STORIES               40349\n",
       "SALEDATE                  1\n",
       "PRICE                     0\n",
       "QUALIFIED                 0\n",
       "SALE_NUM                  0\n",
       "GBA                   40316\n",
       "BLDG_NUM                  0\n",
       "STYLE                 40316\n",
       "STRUCT                40316\n",
       "GRADE                 40316\n",
       "CNDTN                 40316\n",
       "EXTWALL               40316\n",
       "ROOF                  40316\n",
       "INTWALL               40316\n",
       "KITCHENS              40317\n",
       "FIREPLACES                0\n",
       "USECODE                   0\n",
       "LANDAREA                  0\n",
       "GIS_LAST_MOD_DTTM         0\n",
       "SOURCE                    0\n",
       "CMPLX_NUM             57900\n",
       "LIVING_GBA            57900\n",
       "FULLADDRESS           40651\n",
       "CITY                  40647\n",
       "STATE                 40647\n",
       "ZIPCODE                   0\n",
       "NATIONALGRID          40647\n",
       "LATITUDE                  0\n",
       "LONGITUDE                 0\n",
       "ASSESSMENT_NBHD           0\n",
       "ASSESSMENT_SUBNBHD    20255\n",
       "CENSUS_TRACT              0\n",
       "CENSUS_BLOCK          40647\n",
       "WARD                      0\n",
       "SQUARE                    0\n",
       "X                       101\n",
       "Y                       101\n",
       "QUADRANT                101\n",
       "dtype: int64"
      ]
     },
     "execution_count": 34,
     "metadata": {},
     "output_type": "execute_result"
    }
   ],
   "source": [
    "#confirm all null price values have been dropped\n",
    "cleanDCHouse_df.isnull().sum()"
   ]
  },
  {
   "cell_type": "code",
   "execution_count": 35,
   "metadata": {},
   "outputs": [
    {
     "data": {
      "text/plain": [
       "count    9.821600e+04\n",
       "mean     9.313516e+05\n",
       "std      7.061325e+06\n",
       "min      1.000000e+00\n",
       "25%      2.400000e+05\n",
       "50%      3.999990e+05\n",
       "75%      6.520000e+05\n",
       "max      1.374275e+08\n",
       "Name: PRICE, dtype: float64"
      ]
     },
     "execution_count": 35,
     "metadata": {},
     "output_type": "execute_result"
    }
   ],
   "source": [
    "#descriptive statistics for price\n",
    "cleanDCHouse_df['PRICE'].describe()"
   ]
  },
  {
   "cell_type": "code",
   "execution_count": 36,
   "metadata": {},
   "outputs": [
    {
     "data": {
      "text/plain": [
       "<matplotlib.axes._subplots.AxesSubplot at 0x1a1e9e5470>"
      ]
     },
     "execution_count": 36,
     "metadata": {},
     "output_type": "execute_result"
    },
    {
     "data": {
      "image/png": "[encoded data removed]",
      "text/plain": [
       "<matplotlib.figure.Figure at 0x1a2e475f60>"
      ]
     },
     "metadata": {
      "needs_background": "light"
     },
     "output_type": "display_data"
    }
   ],
   "source": [
    "cleanDCHouse_df['PRICE'].hist(figsize=(5,5))"
   ]
  },
  {
   "cell_type": "markdown",
   "metadata": {},
   "source": [
    "## Z-Score Standardization"
   ]
  },
  {
   "cell_type": "code",
   "execution_count": 37,
   "metadata": {},
   "outputs": [],
   "source": [
    "#set StandardScale function to a variable\n",
    "#scaler will use z-score formula on the column\n",
    "scaler = StandardScaler()\n",
    "#fit_transform calculates the mean and std, and replaces any missing values w/ mean if needed\n",
    "price_zscore = scaler.fit_transform(cleanDCHouse_df[['PRICE']])"
   ]
  },
  {
   "cell_type": "code",
   "execution_count": 38,
   "metadata": {},
   "outputs": [
    {
     "data": {
      "text/plain": [
       "(-4.630074029551846e-18, 1.0)"
      ]
     },
     "execution_count": 38,
     "metadata": {},
     "output_type": "execute_result"
    }
   ],
   "source": [
    "#mean and standard deviation of z-score standardized 'Price' column\n",
    "#mean is very very close to 0 \n",
    "price_zscore.mean(), price_zscore.std()"
   ]
  },
  {
   "cell_type": "code",
   "execution_count": 39,
   "metadata": {},
   "outputs": [],
   "source": [
    "#because fit_transform made an array, we have to change it back into a Series type (pandas dataframe column)\n",
    "price_z_col = pd.Series(price_zscore.reshape(-1))"
   ]
  },
  {
   "cell_type": "code",
   "execution_count": 40,
   "metadata": {},
   "outputs": [
    {
     "data": {
      "text/plain": [
       "0    0.023175\n",
       "1    0.165501\n",
       "2    0.094975\n",
       "3    0.144258\n",
       "4    0.016803\n",
       "dtype: float64"
      ]
     },
     "execution_count": 40,
     "metadata": {},
     "output_type": "execute_result"
    }
   ],
   "source": [
    "#first 5 rows of z-score standardized price column\n",
    "price_z_col.head()"
   ]
  },
  {
   "cell_type": "code",
   "execution_count": 41,
   "metadata": {},
   "outputs": [
    {
     "data": {
      "text/plain": [
       "<matplotlib.axes._subplots.AxesSubplot at 0x1a1e9e9320>"
      ]
     },
     "execution_count": 41,
     "metadata": {},
     "output_type": "execute_result"
    },
    {
     "data": {
      "image/png": "[encoded data removed]",
      "text/plain": [
       "<matplotlib.figure.Figure at 0x1a1e9f08d0>"
      ]
     },
     "metadata": {
      "needs_background": "light"
     },
     "output_type": "display_data"
    }
   ],
   "source": [
    "price_z_col.hist()"
   ]
  },
  {
   "cell_type": "markdown",
   "metadata": {},
   "source": [
    "## Min-Max Scaling"
   ]
  },
  {
   "cell_type": "code",
   "execution_count": 42,
   "metadata": {},
   "outputs": [],
   "source": [
    "#MinMaxScaler function calculates the formula\n",
    "minmax_sc = MinMaxScaler()"
   ]
  },
  {
   "cell_type": "code",
   "execution_count": 43,
   "metadata": {},
   "outputs": [],
   "source": [
    "price_minmax = minmax_sc.fit_transform(cleanDCHouse_df[['PRICE']])"
   ]
  },
  {
   "cell_type": "code",
   "execution_count": 44,
   "metadata": {},
   "outputs": [
    {
     "data": {
      "text/plain": [
       "(0.006777030046710401, 0.0513819049810315)"
      ]
     },
     "execution_count": 44,
     "metadata": {},
     "output_type": "execute_result"
    }
   ],
   "source": [
    "price_minmax.mean(), price_minmax.std()"
   ]
  },
  {
   "cell_type": "code",
   "execution_count": 45,
   "metadata": {},
   "outputs": [
    {
     "data": {
      "text/plain": [
       "0    0.007968\n",
       "1    0.015281\n",
       "2    0.011657\n",
       "3    0.014189\n",
       "4    0.007640\n",
       "dtype: float64"
      ]
     },
     "execution_count": 45,
     "metadata": {},
     "output_type": "execute_result"
    }
   ],
   "source": [
    "#convert array into a dataframe column\n",
    "#look at first 5 rows of min-max values\n",
    "price_mm_col = pd.Series(price_minmax.reshape(-1))\n",
    "price_mm_col.head()"
   ]
  },
  {
   "cell_type": "code",
   "execution_count": 46,
   "metadata": {},
   "outputs": [
    {
     "data": {
      "text/plain": [
       "(0.0, 0.9999999999999999)"
      ]
     },
     "execution_count": 46,
     "metadata": {},
     "output_type": "execute_result"
    }
   ],
   "source": [
    "#verify the range is between 0 and 1\n",
    "price_mm_col.min(), price_mm_col.max()"
   ]
  },
  {
   "cell_type": "code",
   "execution_count": 47,
   "metadata": {},
   "outputs": [
    {
     "data": {
      "text/plain": [
       "<matplotlib.axes._subplots.AxesSubplot at 0x1a1eaf2320>"
      ]
     },
     "execution_count": 47,
     "metadata": {},
     "output_type": "execute_result"
    },
    {
     "data": {
      "image/png": "[encoded data removed]",
      "text/plain": [
       "<matplotlib.figure.Figure at 0x1a1eb01358>"
      ]
     },
     "metadata": {
      "needs_background": "light"
     },
     "output_type": "display_data"
    }
   ],
   "source": [
    "#view histogram of min-max scaled price\n",
    "price_mm_col.hist()"
   ]
  },
  {
   "cell_type": "code",
   "execution_count": null,
   "metadata": {},
   "outputs": [],
   "source": []
  }
 ],
 "metadata": {
  "kernelspec": {
   "display_name": "Python 3",
   "language": "python",
   "name": "python3"
  },
  "language_info": {
   "codemirror_mode": {
    "name": "ipython",
    "version": 3
   },
   "file_extension": ".py",
   "mimetype": "text/x-python",
   "name": "python",
   "nbconvert_exporter": "python",
   "pygments_lexer": "ipython3",
   "version": "3.6.8"
  }
 },
 "nbformat": 4,
 "nbformat_minor": 2
}
