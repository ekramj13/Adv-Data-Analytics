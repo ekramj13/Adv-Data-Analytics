{
 "cells": [
  {
   "cell_type": "markdown",
   "metadata": {},
   "source": [
    "# Board Game Geek Database\n",
    "\n",
    "Read in the data for each table. Use code to show the number of rows and columns for each table in the database. "
   ]
  },
  {
   "cell_type": "code",
   "execution_count": 1,
   "metadata": {},
   "outputs": [],
   "source": [
    "#import libraries\n",
    "\n",
    "import pandas as pd\n",
    "import numpy as np\n",
    "\n",
    "import sys \n",
    "import sqlite3 as sqlite\n",
    "\n",
    "from sqlalchemy import create_engine"
   ]
  },
  {
   "cell_type": "code",
   "execution_count": 2,
   "metadata": {},
   "outputs": [],
   "source": [
    "#connect to sqlite database\n",
    "db_data = r'datasets/database.sqlite'\n",
    "engine = create_engine(r\"sqlite:///{}\".format(db_data))"
   ]
  },
  {
   "cell_type": "code",
   "execution_count": 3,
   "metadata": {},
   "outputs": [
    {
     "data": {
      "text/html": [
       "<div>\n",
       "<style scoped>\n",
       "    .dataframe tbody tr th:only-of-type {\n",
       "        vertical-align: middle;\n",
       "    }\n",
       "\n",
       "    .dataframe tbody tr th {\n",
       "        vertical-align: top;\n",
       "    }\n",
       "\n",
       "    .dataframe thead th {\n",
       "        text-align: right;\n",
       "    }\n",
       "</style>\n",
       "<table border=\"1\" class=\"dataframe\">\n",
       "  <thead>\n",
       "    <tr style=\"text-align: right;\">\n",
       "      <th></th>\n",
       "      <th>name</th>\n",
       "    </tr>\n",
       "  </thead>\n",
       "  <tbody>\n",
       "    <tr>\n",
       "      <th>0</th>\n",
       "      <td>BoardGames</td>\n",
       "    </tr>\n",
       "    <tr>\n",
       "      <th>1</th>\n",
       "      <td>bgg.ldaOut.topics</td>\n",
       "    </tr>\n",
       "    <tr>\n",
       "      <th>2</th>\n",
       "      <td>bgg.ldaOut.top.terms</td>\n",
       "    </tr>\n",
       "    <tr>\n",
       "      <th>3</th>\n",
       "      <td>bgg.ldaOut.top.documents</td>\n",
       "    </tr>\n",
       "    <tr>\n",
       "      <th>4</th>\n",
       "      <td>bgg.topics</td>\n",
       "    </tr>\n",
       "  </tbody>\n",
       "</table>\n",
       "</div>"
      ],
      "text/plain": [
       "                       name\n",
       "0                BoardGames\n",
       "1         bgg.ldaOut.topics\n",
       "2      bgg.ldaOut.top.terms\n",
       "3  bgg.ldaOut.top.documents\n",
       "4                bgg.topics"
      ]
     },
     "execution_count": 3,
     "metadata": {},
     "output_type": "execute_result"
    }
   ],
   "source": [
    "#find out what tables are in the database\n",
    "sql = \"SELECT name FROM sqlite_master WHERE type = 'table';\"\n",
    "\n",
    "table_names = pd.read_sql(sql, engine)\n",
    "table_names"
   ]
  },
  {
   "cell_type": "code",
   "execution_count": 4,
   "metadata": {},
   "outputs": [],
   "source": [
    "#get all the rows from the \"BoardGames\" table in the database\n",
    "sql = \"SELECT * FROM BoardGames;\" #astriks means \"everything\"\n",
    "BoardGames_df = pd.read_sql(sql, engine)"
   ]
  },
  {
   "cell_type": "code",
   "execution_count": 5,
   "metadata": {},
   "outputs": [
    {
     "data": {
      "text/html": [
       "<div>\n",
       "<style scoped>\n",
       "    .dataframe tbody tr th:only-of-type {\n",
       "        vertical-align: middle;\n",
       "    }\n",
       "\n",
       "    .dataframe tbody tr th {\n",
       "        vertical-align: top;\n",
       "    }\n",
       "\n",
       "    .dataframe thead th {\n",
       "        text-align: right;\n",
       "    }\n",
       "</style>\n",
       "<table border=\"1\" class=\"dataframe\">\n",
       "  <thead>\n",
       "    <tr style=\"text-align: right;\">\n",
       "      <th></th>\n",
       "      <th>row_names</th>\n",
       "      <th>game.id</th>\n",
       "      <th>game.type</th>\n",
       "      <th>details.description</th>\n",
       "      <th>details.image</th>\n",
       "      <th>details.maxplayers</th>\n",
       "      <th>details.maxplaytime</th>\n",
       "      <th>details.minage</th>\n",
       "      <th>details.minplayers</th>\n",
       "      <th>details.minplaytime</th>\n",
       "      <th>...</th>\n",
       "      <th>stats.family.arcade.bayesaverage</th>\n",
       "      <th>stats.family.arcade.pos</th>\n",
       "      <th>stats.family.atarist.bayesaverage</th>\n",
       "      <th>stats.family.atarist.pos</th>\n",
       "      <th>stats.family.commodore64.bayesaverage</th>\n",
       "      <th>stats.family.commodore64.pos</th>\n",
       "      <th>stats.subtype.rpgitem.bayesaverage</th>\n",
       "      <th>stats.subtype.rpgitem.pos</th>\n",
       "      <th>stats.subtype.videogame.bayesaverage</th>\n",
       "      <th>stats.subtype.videogame.pos</th>\n",
       "    </tr>\n",
       "  </thead>\n",
       "  <tbody>\n",
       "    <tr>\n",
       "      <th>0</th>\n",
       "      <td>1</td>\n",
       "      <td>1</td>\n",
       "      <td>boardgame</td>\n",
       "      <td>Die Macher is a game about seven sequential po...</td>\n",
       "      <td>//cf.geekdo-images.com/images/pic159509.jpg</td>\n",
       "      <td>5.0</td>\n",
       "      <td>240.0</td>\n",
       "      <td>14.0</td>\n",
       "      <td>3.0</td>\n",
       "      <td>240.0</td>\n",
       "      <td>...</td>\n",
       "      <td>NaN</td>\n",
       "      <td>NaN</td>\n",
       "      <td>NaN</td>\n",
       "      <td>NaN</td>\n",
       "      <td>NaN</td>\n",
       "      <td>NaN</td>\n",
       "      <td>NaN</td>\n",
       "      <td>NaN</td>\n",
       "      <td>NaN</td>\n",
       "      <td>NaN</td>\n",
       "    </tr>\n",
       "    <tr>\n",
       "      <th>1</th>\n",
       "      <td>2</td>\n",
       "      <td>2</td>\n",
       "      <td>boardgame</td>\n",
       "      <td>Dragonmaster is a trick-taking card game based...</td>\n",
       "      <td>//cf.geekdo-images.com/images/pic184174.jpg</td>\n",
       "      <td>4.0</td>\n",
       "      <td>30.0</td>\n",
       "      <td>12.0</td>\n",
       "      <td>3.0</td>\n",
       "      <td>30.0</td>\n",
       "      <td>...</td>\n",
       "      <td>NaN</td>\n",
       "      <td>NaN</td>\n",
       "      <td>NaN</td>\n",
       "      <td>NaN</td>\n",
       "      <td>NaN</td>\n",
       "      <td>NaN</td>\n",
       "      <td>NaN</td>\n",
       "      <td>NaN</td>\n",
       "      <td>NaN</td>\n",
       "      <td>NaN</td>\n",
       "    </tr>\n",
       "    <tr>\n",
       "      <th>2</th>\n",
       "      <td>3</td>\n",
       "      <td>3</td>\n",
       "      <td>boardgame</td>\n",
       "      <td>Part of the Knizia tile-laying trilogy, Samura...</td>\n",
       "      <td>//cf.geekdo-images.com/images/pic3211873.jpg</td>\n",
       "      <td>4.0</td>\n",
       "      <td>60.0</td>\n",
       "      <td>10.0</td>\n",
       "      <td>2.0</td>\n",
       "      <td>30.0</td>\n",
       "      <td>...</td>\n",
       "      <td>NaN</td>\n",
       "      <td>NaN</td>\n",
       "      <td>NaN</td>\n",
       "      <td>NaN</td>\n",
       "      <td>NaN</td>\n",
       "      <td>NaN</td>\n",
       "      <td>NaN</td>\n",
       "      <td>NaN</td>\n",
       "      <td>NaN</td>\n",
       "      <td>NaN</td>\n",
       "    </tr>\n",
       "  </tbody>\n",
       "</table>\n",
       "<p>3 rows × 81 columns</p>\n",
       "</div>"
      ],
      "text/plain": [
       "  row_names game.id  game.type  \\\n",
       "0         1       1  boardgame   \n",
       "1         2       2  boardgame   \n",
       "2         3       3  boardgame   \n",
       "\n",
       "                                 details.description  \\\n",
       "0  Die Macher is a game about seven sequential po...   \n",
       "1  Dragonmaster is a trick-taking card game based...   \n",
       "2  Part of the Knizia tile-laying trilogy, Samura...   \n",
       "\n",
       "                                  details.image  details.maxplayers  \\\n",
       "0   //cf.geekdo-images.com/images/pic159509.jpg                 5.0   \n",
       "1   //cf.geekdo-images.com/images/pic184174.jpg                 4.0   \n",
       "2  //cf.geekdo-images.com/images/pic3211873.jpg                 4.0   \n",
       "\n",
       "   details.maxplaytime  details.minage  details.minplayers  \\\n",
       "0                240.0            14.0                 3.0   \n",
       "1                 30.0            12.0                 3.0   \n",
       "2                 60.0            10.0                 2.0   \n",
       "\n",
       "   details.minplaytime  ... stats.family.arcade.bayesaverage  \\\n",
       "0                240.0  ...                              NaN   \n",
       "1                 30.0  ...                              NaN   \n",
       "2                 30.0  ...                              NaN   \n",
       "\n",
       "   stats.family.arcade.pos stats.family.atarist.bayesaverage  \\\n",
       "0                      NaN                               NaN   \n",
       "1                      NaN                               NaN   \n",
       "2                      NaN                               NaN   \n",
       "\n",
       "   stats.family.atarist.pos stats.family.commodore64.bayesaverage  \\\n",
       "0                       NaN                                   NaN   \n",
       "1                       NaN                                   NaN   \n",
       "2                       NaN                                   NaN   \n",
       "\n",
       "  stats.family.commodore64.pos stats.subtype.rpgitem.bayesaverage  \\\n",
       "0                          NaN                                NaN   \n",
       "1                          NaN                                NaN   \n",
       "2                          NaN                                NaN   \n",
       "\n",
       "  stats.subtype.rpgitem.pos stats.subtype.videogame.bayesaverage  \\\n",
       "0                       NaN                                  NaN   \n",
       "1                       NaN                                  NaN   \n",
       "2                       NaN                                  NaN   \n",
       "\n",
       "  stats.subtype.videogame.pos  \n",
       "0                         NaN  \n",
       "1                         NaN  \n",
       "2                         NaN  \n",
       "\n",
       "[3 rows x 81 columns]"
      ]
     },
     "execution_count": 5,
     "metadata": {},
     "output_type": "execute_result"
    }
   ],
   "source": [
    " #preview first 3 rows\n",
    "BoardGames_df.head(3)"
   ]
  },
  {
   "cell_type": "code",
   "execution_count": 6,
   "metadata": {},
   "outputs": [
    {
     "name": "stdout",
     "output_type": "stream",
     "text": [
      "# of rows in the BoardGames table is:  90400\n",
      "# of columns in the BoardGames table is:  81\n"
     ]
    }
   ],
   "source": [
    "#get number of rows and columns for Table 1 (BoardGames)\n",
    "print(\"# of rows in the BoardGames table is: \", BoardGames_df.shape[0])\n",
    "print(\"# of columns in the BoardGames table is: \", BoardGames_df.shape[1])\n"
   ]
  },
  {
   "cell_type": "code",
   "execution_count": 7,
   "metadata": {},
   "outputs": [],
   "source": [
    "#get all the rows from the \"topics\" table in the database\n",
    "sql = 'SELECT * FROM \"bgg.ldaOut.topics\"' \n",
    "bggtopics_df = pd.read_sql(sql, engine)"
   ]
  },
  {
   "cell_type": "code",
   "execution_count": 17,
   "metadata": {},
   "outputs": [
    {
     "name": "stdout",
     "output_type": "stream",
     "text": [
      "# of rows in the bgg topics table is:  29229\n",
      "# of columns in the bgg topics table is:  2\n"
     ]
    }
   ],
   "source": [
    "#get number of rows and columns for Table 2 (bgg.ldaOut.topics)\n",
    "print(\"# of rows in the bgg topics table is: \", bggtopics_df.shape[0])\n",
    "print(\"# of columns in the bgg topics table is: \", bggtopics_df.shape[1])\n"
   ]
  },
  {
   "cell_type": "code",
   "execution_count": 10,
   "metadata": {},
   "outputs": [],
   "source": [
    "#get all the rows from the \"terms\" table in the database\n",
    "sql = 'SELECT * FROM \"bgg.ldaOut.top.terms\"' \n",
    "terms_df = pd.read_sql(sql, engine)"
   ]
  },
  {
   "cell_type": "code",
   "execution_count": 11,
   "metadata": {},
   "outputs": [
    {
     "name": "stdout",
     "output_type": "stream",
     "text": [
      "# of rows in the terms table is:  250\n",
      "# of columns in the terms table is:  4\n"
     ]
    }
   ],
   "source": [
    "#get number of rows and columns for Table 3 (bgg.ldaOut.top.terms)\n",
    "print(\"# of rows in the terms table is: \", terms_df.shape[0])\n",
    "print(\"# of columns in the terms table is: \", terms_df.shape[1])\n"
   ]
  },
  {
   "cell_type": "code",
   "execution_count": 12,
   "metadata": {},
   "outputs": [],
   "source": [
    "#get all the rows from the \"documents\" table in the database\n",
    "sql = 'SELECT * FROM \"bgg.ldaOut.top.documents\"' \n",
    "documents_df = pd.read_sql(sql, engine)"
   ]
  },
  {
   "cell_type": "code",
   "execution_count": 13,
   "metadata": {},
   "outputs": [
    {
     "name": "stdout",
     "output_type": "stream",
     "text": [
      "# of rows in the documents table is:  288\n",
      "# of columns in the documents table is:  4\n"
     ]
    }
   ],
   "source": [
    "#get number of rows and columns for Table 4 (documents)\n",
    "print (\"# of rows in the documents table is: \", documents_df.shape[0])\n",
    "print(\"# of columns in the documents table is: \", documents_df.shape[1])"
   ]
  },
  {
   "cell_type": "code",
   "execution_count": 16,
   "metadata": {},
   "outputs": [],
   "source": [
    "#get all the rows from the \"topics\" table in the database\n",
    "sql = 'SELECT * FROM \"bgg.topics\"' \n",
    "topics_df = pd.read_sql(sql, engine)"
   ]
  },
  {
   "cell_type": "code",
   "execution_count": 15,
   "metadata": {},
   "outputs": [
    {
     "name": "stdout",
     "output_type": "stream",
     "text": [
      "# of rows in the topics table is:  29313\n",
      "# of columns in the topics table is:  74\n"
     ]
    }
   ],
   "source": [
    "#get number of rows and columns for Table 5 (bgg.topics)\n",
    "print (\"# of rows in the topics table is: \", topics_df.shape[0])\n",
    "print(\"# of columns in the topics table is: \", topics_df.shape[1])"
   ]
  },
  {
   "cell_type": "code",
   "execution_count": null,
   "metadata": {},
   "outputs": [],
   "source": []
  }
 ],
 "metadata": {
  "kernelspec": {
   "display_name": "Python 3",
   "language": "python",
   "name": "python3"
  },
  "language_info": {
   "codemirror_mode": {
    "name": "ipython",
    "version": 3
   },
   "file_extension": ".py",
   "mimetype": "text/x-python",
   "name": "python",
   "nbconvert_exporter": "python",
   "pygments_lexer": "ipython3",
   "version": "3.6.8"
  }
 },
 "nbformat": 4,
 "nbformat_minor": 2
}
